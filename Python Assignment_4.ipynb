{
 "cells": [
  {
   "cell_type": "markdown",
   "metadata": {},
   "source": [
    "#### Write a Python Program(with class concepts) to find the area of the triangle using the below formula.\n",
    "area = (s*(s-a)*(s-b)*(s-c)) ** 0.5"
   ]
  },
  {
   "cell_type": "code",
   "execution_count": 1,
   "metadata": {},
   "outputs": [
    {
     "name": "stdout",
     "output_type": "stream",
     "text": [
      "Enter the first length of triangle: 10\n",
      "Enter the second length of triangle: 10\n",
      "Enter the third length of triangle: 15\n"
     ]
    },
    {
     "data": {
      "text/plain": [
       "49.607837082461074"
      ]
     },
     "execution_count": 1,
     "metadata": {},
     "output_type": "execute_result"
    }
   ],
   "source": [
    "class Triangle:\n",
    "    a = int(input('Enter the first length of triangle: '))\n",
    "    b = int(input('Enter the second length of triangle: '))\n",
    "    c = int(input('Enter the third length of triangle: '))\n",
    "    def __init__(self):\n",
    "        self.a=Triangle.a\n",
    "        self.b=Triangle.b\n",
    "        self.c=Triangle.c\n",
    "        \n",
    "class Area(Triangle):\n",
    "    def area_of_tri(self):\n",
    "        s=(self.a+self.b+self.c)/2\n",
    "        area = (s*(s-self.a)*(s-self.b)*(s-self.c)) ** 0.5\n",
    "        return area\n",
    "\n",
    "tri_area = Area()\n",
    "tri_area.area_of_tri()"
   ]
  },
  {
   "cell_type": "markdown",
   "metadata": {},
   "source": [
    "#### Write a function filter_long_words() that takes a list of words and an integer n and returns the list of words that are longer than n."
   ]
  },
  {
   "cell_type": "code",
   "execution_count": 2,
   "metadata": {},
   "outputs": [
    {
     "name": "stdout",
     "output_type": "stream",
     "text": [
      "Enter the length of words: 3\n"
     ]
    },
    {
     "data": {
      "text/plain": [
       "['Game', 'Thrones', 'excellent', 'book']"
      ]
     },
     "execution_count": 2,
     "metadata": {},
     "output_type": "execute_result"
    }
   ],
   "source": [
    "class filter_class():\n",
    "    List_of_words = ['Game','Of','Thrones','is','an','excellent','book']\n",
    "    n = int(input('Enter the length of words: '))\n",
    "    new_list = []\n",
    "    \n",
    "    def __init__(self):\n",
    "        self.lst = filter_class.List_of_words\n",
    "        self.n = filter_class.n\n",
    "        self.new_list = filter_class.new_list\n",
    "        \n",
    "    def filter_long_words(self):\n",
    "        for wrd in self.lst:\n",
    "            if len(wrd)>self.n:\n",
    "                self.new_list.append(wrd)\n",
    "        return self.new_list\n",
    "\n",
    "fil_lst = filter_class()\n",
    "fil_lst.filter_long_words()"
   ]
  },
  {
   "cell_type": "markdown",
   "metadata": {},
   "source": [
    "#### Write a Python program using function concept that maps list of words into a list of integers representing the lengths of the corresponding words."
   ]
  },
  {
   "cell_type": "code",
   "execution_count": 3,
   "metadata": {},
   "outputs": [
    {
     "data": {
      "text/plain": [
       "[3, 2, 5, 6, 4]"
      ]
     },
     "execution_count": 3,
     "metadata": {},
     "output_type": "execute_result"
    }
   ],
   "source": [
    "def wrds_len():\n",
    "    wrds_list=['abc','kd','ddddd','efffes','erty']\n",
    "    len_list=[]\n",
    "    for wrd_indx in wrds_list:\n",
    "        len_list.append(len(wrd_indx))\n",
    "    return len_list\n",
    "\n",
    "wrds_len()"
   ]
  },
  {
   "cell_type": "markdown",
   "metadata": {},
   "source": [
    "#### Write a Python function which takes a character (i.e. a string of length 1) and returns True if it is a vowel, False otherwise."
   ]
  },
  {
   "cell_type": "code",
   "execution_count": 17,
   "metadata": {},
   "outputs": [
    {
     "name": "stdout",
     "output_type": "stream",
     "text": [
      "Enter a character: u\n",
      "True\n"
     ]
    }
   ],
   "source": [
    "def Vowel_check():\n",
    "    ch = input('Enter a character: ')\n",
    "    vowels = 'aeiou'\n",
    "    print(ch in vowels)\n",
    "Vowel_check()"
   ]
  },
  {
   "cell_type": "code",
   "execution_count": null,
   "metadata": {},
   "outputs": [],
   "source": []
  },
  {
   "cell_type": "code",
   "execution_count": null,
   "metadata": {},
   "outputs": [],
   "source": []
  }
 ],
 "metadata": {
  "kernelspec": {
   "display_name": "Python 3",
   "language": "python",
   "name": "python3"
  },
  "language_info": {
   "codemirror_mode": {
    "name": "ipython",
    "version": 3
   },
   "file_extension": ".py",
   "mimetype": "text/x-python",
   "name": "python",
   "nbconvert_exporter": "python",
   "pygments_lexer": "ipython3",
   "version": "3.7.3"
  }
 },
 "nbformat": 4,
 "nbformat_minor": 2
}
